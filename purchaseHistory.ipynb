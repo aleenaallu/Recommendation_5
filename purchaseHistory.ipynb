{
 "cells": [
  {
   "cell_type": "code",
   "execution_count": 1,
   "id": "014b06b8",
   "metadata": {},
   "outputs": [],
   "source": [
    "import pandas as pd\n",
    "import requests\n",
    "\n",
    "%matplotlib inline\n",
    "import numpy as np\n",
    "import matplotlib.pyplot as plt\n",
    "import seaborn as sns\n",
    "from scipy import stats\n",
    "\n",
    "from ast import literal_eval\n",
    "\n",
    "from sklearn.feature_extraction.text import TfidfVectorizer, CountVectorizer\n",
    "from sklearn.metrics.pairwise import linear_kernel, cosine_similarity\n",
    "from nltk.stem.snowball import SnowballStemmer\n",
    "from nltk.stem.wordnet import WordNetLemmatizer\n",
    "from nltk.corpus import wordnet\n",
    "\n",
    "from surprise import Reader, Dataset, SVD\n",
    "from surprise.model_selection import cross_validate\n",
    "\n",
    "\n",
    "import warnings; warnings.simplefilter('ignore')"
   ]
  },
  {
   "cell_type": "code",
   "execution_count": 2,
   "id": "f3aecdd1",
   "metadata": {},
   "outputs": [],
   "source": [
    "# importing inventory dataset"
   ]
  },
  {
   "cell_type": "code",
   "execution_count": 3,
   "id": "d7d41eab",
   "metadata": {},
   "outputs": [],
   "source": [
    "import joblib\n",
    "inventory=joblib.load('inventorydata.pkl')"
   ]
  },
  {
   "cell_type": "code",
   "execution_count": 4,
   "id": "015c89b1",
   "metadata": {
    "scrolled": true
   },
   "outputs": [
    {
     "data": {
      "text/html": [
       "<div>\n",
       "<style scoped>\n",
       "    .dataframe tbody tr th:only-of-type {\n",
       "        vertical-align: middle;\n",
       "    }\n",
       "\n",
       "    .dataframe tbody tr th {\n",
       "        vertical-align: top;\n",
       "    }\n",
       "\n",
       "    .dataframe thead th {\n",
       "        text-align: right;\n",
       "    }\n",
       "</style>\n",
       "<table border=\"1\" class=\"dataframe\">\n",
       "  <thead>\n",
       "    <tr style=\"text-align: right;\">\n",
       "      <th></th>\n",
       "      <th>id</th>\n",
       "      <th>code</th>\n",
       "      <th>inventory_id</th>\n",
       "      <th>inventory_name</th>\n",
       "      <th>name</th>\n",
       "      <th>search_name</th>\n",
       "      <th>display_name</th>\n",
       "      <th>description</th>\n",
       "      <th>image1</th>\n",
       "      <th>base_uom_name</th>\n",
       "      <th>category_name</th>\n",
       "      <th>sub_category_name</th>\n",
       "      <th>group_name</th>\n",
       "      <th>material_name</th>\n",
       "      <th>static_group_name</th>\n",
       "      <th>brand_name</th>\n",
       "      <th>division_name</th>\n",
       "      <th>sales_uom_name</th>\n",
       "    </tr>\n",
       "  </thead>\n",
       "  <tbody>\n",
       "    <tr>\n",
       "      <th>0</th>\n",
       "      <td>26245</td>\n",
       "      <td>VRNT43101</td>\n",
       "      <td>BSNU1000</td>\n",
       "      <td>None</td>\n",
       "      <td>EASTERN GINGER PICKLE 400GM</td>\n",
       "      <td>EASTERN GINGER PICKLE 400GM</td>\n",
       "      <td>EASTERN GINGER PICKLE 400GM</td>\n",
       "      <td>EASTERN GINGER PICKLE 400GM</td>\n",
       "      <td>https://rgc-marketplace.s3.ap-south-1.amazonaw...</td>\n",
       "      <td>PCS</td>\n",
       "      <td>CANNED FOOD</td>\n",
       "      <td>CANNED FOOD</td>\n",
       "      <td>PICKLES</td>\n",
       "      <td>PICKLES</td>\n",
       "      <td>None</td>\n",
       "      <td>EASTERN</td>\n",
       "      <td>FOOD CUPBOARD</td>\n",
       "      <td>PCS</td>\n",
       "    </tr>\n",
       "    <tr>\n",
       "      <th>1</th>\n",
       "      <td>8531</td>\n",
       "      <td>VRNT20682</td>\n",
       "      <td>BSNU1000</td>\n",
       "      <td>None</td>\n",
       "      <td>GARNIER COLOR NATURALS 1 BLACK</td>\n",
       "      <td></td>\n",
       "      <td>GARNIER COLOR NATURALS 1 BLACK</td>\n",
       "      <td></td>\n",
       "      <td>https://rgc-marketplace.s3.ap-south-1.amazonaw...</td>\n",
       "      <td>PCS</td>\n",
       "      <td>HEALTH AND BEAUTY</td>\n",
       "      <td>HAIR CARE</td>\n",
       "      <td>HAIR COLOUR</td>\n",
       "      <td>None</td>\n",
       "      <td>None</td>\n",
       "      <td>MAGIC</td>\n",
       "      <td>NON FOOD CUPBOARD</td>\n",
       "      <td>PCS</td>\n",
       "    </tr>\n",
       "    <tr>\n",
       "      <th>2</th>\n",
       "      <td>33393</td>\n",
       "      <td>VRNT47250</td>\n",
       "      <td>BSNU1000</td>\n",
       "      <td>None</td>\n",
       "      <td>GAULOISES BLONDES LIGHT 20S</td>\n",
       "      <td>GAULOISES BLONDES LIGHT 20S</td>\n",
       "      <td>GAULOISES BLONDES LIGHT 20S</td>\n",
       "      <td>GAULOISES BLONDES LIGHT 20S</td>\n",
       "      <td>https://rgc-marketplace.s3.ap-south-1.amazonaw...</td>\n",
       "      <td>BOX</td>\n",
       "      <td>CIGARETTES AND SHISHA</td>\n",
       "      <td>CIGARETTES</td>\n",
       "      <td>LIGHT AND MENTHOL CIGARETTES</td>\n",
       "      <td>LIGHT AND MENTHOL CIGARETTES</td>\n",
       "      <td>None</td>\n",
       "      <td>GAULOISES</td>\n",
       "      <td>NON FOOD CUPBOARD</td>\n",
       "      <td>BOX</td>\n",
       "    </tr>\n",
       "    <tr>\n",
       "      <th>3</th>\n",
       "      <td>43094</td>\n",
       "      <td>VRNT55062</td>\n",
       "      <td>BSNU1000</td>\n",
       "      <td>None</td>\n",
       "      <td>CAVALLO SYNC CIGARETTE 20S</td>\n",
       "      <td>CAVALLO SYNC CIGARETTE 20S</td>\n",
       "      <td>CAVALLO SYNC CIGARETTE 20S</td>\n",
       "      <td>CAVALLO SYNC CIGARETTE 20S</td>\n",
       "      <td>https://rgc-marketplace.s3.ap-south-1.amazonaw...</td>\n",
       "      <td>PCS</td>\n",
       "      <td>CIGARETTES AND SHISHA</td>\n",
       "      <td>CIGARETTES</td>\n",
       "      <td>NORMAL CIGARETTES</td>\n",
       "      <td>NORMAL CIGARETTES</td>\n",
       "      <td>None</td>\n",
       "      <td>CAVALLO</td>\n",
       "      <td>NON FOOD CUPBOARD</td>\n",
       "      <td>OUTER</td>\n",
       "    </tr>\n",
       "    <tr>\n",
       "      <th>4</th>\n",
       "      <td>8322</td>\n",
       "      <td>VRNT20473</td>\n",
       "      <td>BSNU1000</td>\n",
       "      <td>None</td>\n",
       "      <td>TASTY FOOD CHANADAL TF 500GM</td>\n",
       "      <td></td>\n",
       "      <td>TASTY FOOD CHANADAL TF 500GM</td>\n",
       "      <td></td>\n",
       "      <td>https://rgc-marketplace.s3.ap-south-1.amazonaw...</td>\n",
       "      <td>PCS</td>\n",
       "      <td>HOME BAKING AND COOKING</td>\n",
       "      <td>HOME BAKING AND COOKING</td>\n",
       "      <td>PULSES</td>\n",
       "      <td>None</td>\n",
       "      <td>None</td>\n",
       "      <td>TASTY FOOD</td>\n",
       "      <td>FOOD CUPBOARD</td>\n",
       "      <td>PCS</td>\n",
       "    </tr>\n",
       "    <tr>\n",
       "      <th>...</th>\n",
       "      <td>...</td>\n",
       "      <td>...</td>\n",
       "      <td>...</td>\n",
       "      <td>...</td>\n",
       "      <td>...</td>\n",
       "      <td>...</td>\n",
       "      <td>...</td>\n",
       "      <td>...</td>\n",
       "      <td>...</td>\n",
       "      <td>...</td>\n",
       "      <td>...</td>\n",
       "      <td>...</td>\n",
       "      <td>...</td>\n",
       "      <td>...</td>\n",
       "      <td>...</td>\n",
       "      <td>...</td>\n",
       "      <td>...</td>\n",
       "      <td>...</td>\n",
       "    </tr>\n",
       "    <tr>\n",
       "      <th>31620</th>\n",
       "      <td>20733</td>\n",
       "      <td>VRNT35353</td>\n",
       "      <td>BSNU1000</td>\n",
       "      <td>None</td>\n",
       "      <td>MR/MUSCL TOILT/DUK/ORIGNL500ML</td>\n",
       "      <td>MR/MUSCL TOILT/DUK/ORIGNL500ML</td>\n",
       "      <td>MR/MUSCL TOILT/DUK/ORIGNL500ML</td>\n",
       "      <td>MR/MUSCL TOILT/DUK/ORIGNL500ML</td>\n",
       "      <td>https://rgc-marketplace.s3.ap-south-1.amazonaw...</td>\n",
       "      <td>PCS</td>\n",
       "      <td>HOME CLEANING LIQUIDS</td>\n",
       "      <td>HOME CLEANING LIQUIDS</td>\n",
       "      <td>TOILET CLEANERS</td>\n",
       "      <td>TOILET CLEANERS</td>\n",
       "      <td>None</td>\n",
       "      <td>MR.MUSCLE</td>\n",
       "      <td>NON FOOD CUPBOARD</td>\n",
       "      <td>PCS</td>\n",
       "    </tr>\n",
       "    <tr>\n",
       "      <th>31621</th>\n",
       "      <td>33846</td>\n",
       "      <td>VRNT44545</td>\n",
       "      <td>BSNU1008</td>\n",
       "      <td>None</td>\n",
       "      <td>AL ISLAMI CHICKEN SHEESH KEBAB 280GX12PCS</td>\n",
       "      <td>AL ISLAMI CHICKEN SHEESH KEBAB 280GX12PCS</td>\n",
       "      <td>AL ISLAMI CHICKEN SHEESH KEBAB 280GX12PCS</td>\n",
       "      <td>AL ISLAMI CHICKEN SHEESH KEBAB 280GX12PCS</td>\n",
       "      <td>https://rgc-marketplace.s3.ap-south-1.amazonaw...</td>\n",
       "      <td>CTN</td>\n",
       "      <td>FROZEN FOOD</td>\n",
       "      <td>FROZEN FOOD</td>\n",
       "      <td>FROZEN READY MEALS OTHERS</td>\n",
       "      <td>FROZEN READY MEALS OTHERS</td>\n",
       "      <td>None</td>\n",
       "      <td>AL ISLAMI</td>\n",
       "      <td>FOOD CUPBOARD</td>\n",
       "      <td>CTN</td>\n",
       "    </tr>\n",
       "    <tr>\n",
       "      <th>31622</th>\n",
       "      <td>18603</td>\n",
       "      <td>VRNT33201</td>\n",
       "      <td>BSNU1000</td>\n",
       "      <td>None</td>\n",
       "      <td>SADIA CHICKEN LIVER 3X450GM</td>\n",
       "      <td>SADIA CHICKEN LIVER 3X450GM</td>\n",
       "      <td>SADIA CHICKEN LIVER 3X450GM</td>\n",
       "      <td>SADIA CHICKEN LIVER 3X450GM</td>\n",
       "      <td>https://rgc-marketplace.s3.ap-south-1.amazonaw...</td>\n",
       "      <td>PCS</td>\n",
       "      <td>FROZEN FOOD</td>\n",
       "      <td>FROZEN FOOD</td>\n",
       "      <td>FROZEN MULUKHIYAH</td>\n",
       "      <td>FROZEN MULUKHIYAH</td>\n",
       "      <td>None</td>\n",
       "      <td>SADIA</td>\n",
       "      <td>FOOD CUPBOARD</td>\n",
       "      <td>PCS</td>\n",
       "    </tr>\n",
       "    <tr>\n",
       "      <th>31623</th>\n",
       "      <td>19016</td>\n",
       "      <td>VRNT33614</td>\n",
       "      <td>BSNU1000</td>\n",
       "      <td>None</td>\n",
       "      <td>ALALALI CORN FLOUR 450GM</td>\n",
       "      <td>ALALALI CORN FLOUR 450GM</td>\n",
       "      <td>ALALALI CORN FLOUR 450GM</td>\n",
       "      <td>ALALALI CORN FLOUR 450GM</td>\n",
       "      <td>https://rgc-marketplace.s3.ap-south-1.amazonaw...</td>\n",
       "      <td>PCS</td>\n",
       "      <td>HOME BAKING AND COOKING</td>\n",
       "      <td>BAKING INGREDIENTS</td>\n",
       "      <td>BAKING FLOUR AND MIXES</td>\n",
       "      <td>BAKING FLOUR AND MIXES</td>\n",
       "      <td>None</td>\n",
       "      <td>AL ALALI</td>\n",
       "      <td>FOOD CUPBOARD</td>\n",
       "      <td>PCS</td>\n",
       "    </tr>\n",
       "    <tr>\n",
       "      <th>31624</th>\n",
       "      <td>44305</td>\n",
       "      <td>VRNT56272</td>\n",
       "      <td>BSNU1000</td>\n",
       "      <td>None</td>\n",
       "      <td>LUX BAR RMNTC HIBISCS FLOWERALUR 120G</td>\n",
       "      <td>LUX BAR RMNTC HIBISCS FLOWERALUR 120G</td>\n",
       "      <td>LUX BAR RMNTC HIBISCS FLOWERALUR 120G</td>\n",
       "      <td>LUX BAR RMNTC HIBISCS FLOWERALUR 120G</td>\n",
       "      <td>https://rgc-marketplace.s3.ap-south-1.amazonaw...</td>\n",
       "      <td>PCS</td>\n",
       "      <td>HEALTH AND BEAUTY</td>\n",
       "      <td>FACE BATH AND BODY</td>\n",
       "      <td>BATH SOAP</td>\n",
       "      <td>BATH SOAP</td>\n",
       "      <td>None</td>\n",
       "      <td>LUX</td>\n",
       "      <td>NON FOOD CUPBOARD</td>\n",
       "      <td>PIECES</td>\n",
       "    </tr>\n",
       "  </tbody>\n",
       "</table>\n",
       "<p>31625 rows × 18 columns</p>\n",
       "</div>"
      ],
      "text/plain": [
       "          id       code inventory_id inventory_name  \\\n",
       "0      26245  VRNT43101     BSNU1000           None   \n",
       "1       8531  VRNT20682     BSNU1000           None   \n",
       "2      33393  VRNT47250     BSNU1000           None   \n",
       "3      43094  VRNT55062     BSNU1000           None   \n",
       "4       8322  VRNT20473     BSNU1000           None   \n",
       "...      ...        ...          ...            ...   \n",
       "31620  20733  VRNT35353     BSNU1000           None   \n",
       "31621  33846  VRNT44545     BSNU1008           None   \n",
       "31622  18603  VRNT33201     BSNU1000           None   \n",
       "31623  19016  VRNT33614     BSNU1000           None   \n",
       "31624  44305  VRNT56272     BSNU1000           None   \n",
       "\n",
       "                                            name  \\\n",
       "0                    EASTERN GINGER PICKLE 400GM   \n",
       "1                 GARNIER COLOR NATURALS 1 BLACK   \n",
       "2                    GAULOISES BLONDES LIGHT 20S   \n",
       "3                     CAVALLO SYNC CIGARETTE 20S   \n",
       "4                   TASTY FOOD CHANADAL TF 500GM   \n",
       "...                                          ...   \n",
       "31620             MR/MUSCL TOILT/DUK/ORIGNL500ML   \n",
       "31621  AL ISLAMI CHICKEN SHEESH KEBAB 280GX12PCS   \n",
       "31622                SADIA CHICKEN LIVER 3X450GM   \n",
       "31623                   ALALALI CORN FLOUR 450GM   \n",
       "31624      LUX BAR RMNTC HIBISCS FLOWERALUR 120G   \n",
       "\n",
       "                                     search_name  \\\n",
       "0                    EASTERN GINGER PICKLE 400GM   \n",
       "1                                                  \n",
       "2                    GAULOISES BLONDES LIGHT 20S   \n",
       "3                     CAVALLO SYNC CIGARETTE 20S   \n",
       "4                                                  \n",
       "...                                          ...   \n",
       "31620             MR/MUSCL TOILT/DUK/ORIGNL500ML   \n",
       "31621  AL ISLAMI CHICKEN SHEESH KEBAB 280GX12PCS   \n",
       "31622                SADIA CHICKEN LIVER 3X450GM   \n",
       "31623                   ALALALI CORN FLOUR 450GM   \n",
       "31624      LUX BAR RMNTC HIBISCS FLOWERALUR 120G   \n",
       "\n",
       "                                    display_name  \\\n",
       "0                    EASTERN GINGER PICKLE 400GM   \n",
       "1                 GARNIER COLOR NATURALS 1 BLACK   \n",
       "2                    GAULOISES BLONDES LIGHT 20S   \n",
       "3                     CAVALLO SYNC CIGARETTE 20S   \n",
       "4                   TASTY FOOD CHANADAL TF 500GM   \n",
       "...                                          ...   \n",
       "31620             MR/MUSCL TOILT/DUK/ORIGNL500ML   \n",
       "31621  AL ISLAMI CHICKEN SHEESH KEBAB 280GX12PCS   \n",
       "31622                SADIA CHICKEN LIVER 3X450GM   \n",
       "31623                   ALALALI CORN FLOUR 450GM   \n",
       "31624      LUX BAR RMNTC HIBISCS FLOWERALUR 120G   \n",
       "\n",
       "                                     description  \\\n",
       "0                    EASTERN GINGER PICKLE 400GM   \n",
       "1                                                  \n",
       "2                    GAULOISES BLONDES LIGHT 20S   \n",
       "3                     CAVALLO SYNC CIGARETTE 20S   \n",
       "4                                                  \n",
       "...                                          ...   \n",
       "31620             MR/MUSCL TOILT/DUK/ORIGNL500ML   \n",
       "31621  AL ISLAMI CHICKEN SHEESH KEBAB 280GX12PCS   \n",
       "31622                SADIA CHICKEN LIVER 3X450GM   \n",
       "31623                   ALALALI CORN FLOUR 450GM   \n",
       "31624      LUX BAR RMNTC HIBISCS FLOWERALUR 120G   \n",
       "\n",
       "                                                  image1 base_uom_name  \\\n",
       "0      https://rgc-marketplace.s3.ap-south-1.amazonaw...           PCS   \n",
       "1      https://rgc-marketplace.s3.ap-south-1.amazonaw...           PCS   \n",
       "2      https://rgc-marketplace.s3.ap-south-1.amazonaw...           BOX   \n",
       "3      https://rgc-marketplace.s3.ap-south-1.amazonaw...           PCS   \n",
       "4      https://rgc-marketplace.s3.ap-south-1.amazonaw...           PCS   \n",
       "...                                                  ...           ...   \n",
       "31620  https://rgc-marketplace.s3.ap-south-1.amazonaw...           PCS   \n",
       "31621  https://rgc-marketplace.s3.ap-south-1.amazonaw...           CTN   \n",
       "31622  https://rgc-marketplace.s3.ap-south-1.amazonaw...           PCS   \n",
       "31623  https://rgc-marketplace.s3.ap-south-1.amazonaw...           PCS   \n",
       "31624  https://rgc-marketplace.s3.ap-south-1.amazonaw...           PCS   \n",
       "\n",
       "                 category_name        sub_category_name  \\\n",
       "0                  CANNED FOOD              CANNED FOOD   \n",
       "1            HEALTH AND BEAUTY                HAIR CARE   \n",
       "2        CIGARETTES AND SHISHA               CIGARETTES   \n",
       "3        CIGARETTES AND SHISHA               CIGARETTES   \n",
       "4      HOME BAKING AND COOKING  HOME BAKING AND COOKING   \n",
       "...                        ...                      ...   \n",
       "31620    HOME CLEANING LIQUIDS    HOME CLEANING LIQUIDS   \n",
       "31621              FROZEN FOOD              FROZEN FOOD   \n",
       "31622              FROZEN FOOD              FROZEN FOOD   \n",
       "31623  HOME BAKING AND COOKING       BAKING INGREDIENTS   \n",
       "31624        HEALTH AND BEAUTY       FACE BATH AND BODY   \n",
       "\n",
       "                         group_name                 material_name  \\\n",
       "0                           PICKLES                       PICKLES   \n",
       "1                       HAIR COLOUR                          None   \n",
       "2      LIGHT AND MENTHOL CIGARETTES  LIGHT AND MENTHOL CIGARETTES   \n",
       "3                 NORMAL CIGARETTES             NORMAL CIGARETTES   \n",
       "4                            PULSES                          None   \n",
       "...                             ...                           ...   \n",
       "31620               TOILET CLEANERS               TOILET CLEANERS   \n",
       "31621     FROZEN READY MEALS OTHERS     FROZEN READY MEALS OTHERS   \n",
       "31622             FROZEN MULUKHIYAH             FROZEN MULUKHIYAH   \n",
       "31623        BAKING FLOUR AND MIXES        BAKING FLOUR AND MIXES   \n",
       "31624                     BATH SOAP                     BATH SOAP   \n",
       "\n",
       "      static_group_name  brand_name      division_name sales_uom_name  \n",
       "0                  None     EASTERN      FOOD CUPBOARD            PCS  \n",
       "1                  None       MAGIC  NON FOOD CUPBOARD            PCS  \n",
       "2                  None   GAULOISES  NON FOOD CUPBOARD            BOX  \n",
       "3                  None     CAVALLO  NON FOOD CUPBOARD          OUTER  \n",
       "4                  None  TASTY FOOD      FOOD CUPBOARD            PCS  \n",
       "...                 ...         ...                ...            ...  \n",
       "31620              None   MR.MUSCLE  NON FOOD CUPBOARD            PCS  \n",
       "31621              None   AL ISLAMI      FOOD CUPBOARD            CTN  \n",
       "31622              None       SADIA      FOOD CUPBOARD            PCS  \n",
       "31623              None    AL ALALI      FOOD CUPBOARD            PCS  \n",
       "31624              None         LUX  NON FOOD CUPBOARD         PIECES  \n",
       "\n",
       "[31625 rows x 18 columns]"
      ]
     },
     "execution_count": 4,
     "metadata": {},
     "output_type": "execute_result"
    }
   ],
   "source": [
    "inventory"
   ]
  },
  {
   "cell_type": "code",
   "execution_count": null,
   "id": "9fdfac1a",
   "metadata": {},
   "outputs": [],
   "source": []
  },
  {
   "cell_type": "code",
   "execution_count": 5,
   "id": "b615cbbd",
   "metadata": {},
   "outputs": [],
   "source": [
    "# importing purchase History dataset from url"
   ]
  },
  {
   "cell_type": "code",
   "execution_count": 6,
   "id": "b39bdbf9",
   "metadata": {},
   "outputs": [],
   "source": [
    "# all_data = []\n",
    "# def get_paginated_results(url,all_data):\n",
    "#     response = requests.get(url)\n",
    "#     #print(response)\n",
    "#     res = response.json()\n",
    "#     if response.status_code == 200:\n",
    "#         if res['data'][\"results\"]:\n",
    "#             all_data += res['data'][\"results\"]\n",
    "#     if res['data'] == None or res['data']['next'] == None:\n",
    "#         return all_data\n",
    "    \n",
    "#     return get_paginated_results(res['data']['next'],all_data)"
   ]
  },
  {
   "cell_type": "code",
   "execution_count": 7,
   "id": "3c8adf1e",
   "metadata": {
    "scrolled": false
   },
   "outputs": [],
   "source": [
    "# url='https://api-designlayoutproduction-uat.hilalcart.com/dynamic/purchase-history-list'\n",
    "# all_data_res = get_paginated_results(url,all_data)\n",
    "# # print(all_data_res)\n"
   ]
  },
  {
   "cell_type": "code",
   "execution_count": 8,
   "id": "077929d9",
   "metadata": {
    "scrolled": true
   },
   "outputs": [
    {
     "ename": "NameError",
     "evalue": "name 'all_data_res' is not defined",
     "output_type": "error",
     "traceback": [
      "\u001b[0;31m---------------------------------------------------------------------------\u001b[0m",
      "\u001b[0;31mNameError\u001b[0m                                 Traceback (most recent call last)",
      "\u001b[0;32m/tmp/ipykernel_6064/1018148251.py\u001b[0m in \u001b[0;36m<module>\u001b[0;34m\u001b[0m\n\u001b[0;32m----> 1\u001b[0;31m \u001b[0mpurchaseData\u001b[0m \u001b[0;34m=\u001b[0m \u001b[0mpd\u001b[0m\u001b[0;34m.\u001b[0m\u001b[0mDataFrame\u001b[0m\u001b[0;34m(\u001b[0m\u001b[0mall_data_res\u001b[0m\u001b[0;34m)\u001b[0m\u001b[0;34m\u001b[0m\u001b[0;34m\u001b[0m\u001b[0m\n\u001b[0m\u001b[1;32m      2\u001b[0m \u001b[0mpurchaseData\u001b[0m\u001b[0;34m\u001b[0m\u001b[0;34m\u001b[0m\u001b[0m\n",
      "\u001b[0;31mNameError\u001b[0m: name 'all_data_res' is not defined"
     ]
    }
   ],
   "source": [
    "# purchaseData = pd.DataFrame(all_data_res)\n",
    "# purchaseData"
   ]
  },
  {
   "cell_type": "code",
   "execution_count": null,
   "id": "24162131",
   "metadata": {},
   "outputs": [],
   "source": []
  },
  {
   "cell_type": "code",
   "execution_count": null,
   "id": "7f55bfbf",
   "metadata": {},
   "outputs": [],
   "source": [
    "#store variant id in id column"
   ]
  },
  {
   "cell_type": "code",
   "execution_count": null,
   "id": "ef4844d2",
   "metadata": {
    "scrolled": true
   },
   "outputs": [],
   "source": [
    "purchaseData.id=purchaseData.variant_id\n",
    "purchaseData"
   ]
  },
  {
   "cell_type": "code",
   "execution_count": null,
   "id": "e189bfdc",
   "metadata": {},
   "outputs": [],
   "source": [
    "purchaseData.columns"
   ]
  },
  {
   "cell_type": "code",
   "execution_count": null,
   "id": "92c7237e",
   "metadata": {},
   "outputs": [],
   "source": []
  },
  {
   "cell_type": "code",
   "execution_count": null,
   "id": "756bff27",
   "metadata": {},
   "outputs": [],
   "source": [
    "#creating an purchase id with required column seperately"
   ]
  },
  {
   "cell_type": "code",
   "execution_count": null,
   "id": "d3f4eb67",
   "metadata": {
    "scrolled": true
   },
   "outputs": [],
   "source": [
    "purchaseId=purchaseData[[\"id\",\"customer_code\",\"created_year\",'created_month','created_day']]\n",
    "purchaseId"
   ]
  },
  {
   "cell_type": "code",
   "execution_count": null,
   "id": "bb664ddc",
   "metadata": {},
   "outputs": [],
   "source": []
  },
  {
   "cell_type": "code",
   "execution_count": null,
   "id": "6834300d",
   "metadata": {},
   "outputs": [],
   "source": [
    "#converting id column into int to merge"
   ]
  },
  {
   "cell_type": "code",
   "execution_count": null,
   "id": "dfa9909c",
   "metadata": {},
   "outputs": [],
   "source": [
    "purchaseId.id=purchaseId.id.astype('int')"
   ]
  },
  {
   "cell_type": "code",
   "execution_count": null,
   "id": "426e04ba",
   "metadata": {},
   "outputs": [],
   "source": [
    "inventory.id=inventory.id.astype(\"int\")"
   ]
  },
  {
   "cell_type": "code",
   "execution_count": null,
   "id": "85434ce6",
   "metadata": {},
   "outputs": [],
   "source": []
  },
  {
   "cell_type": "code",
   "execution_count": null,
   "id": "fcfa7df5",
   "metadata": {},
   "outputs": [],
   "source": [
    "#merging id with inventory to obtain datas of purchase id"
   ]
  },
  {
   "cell_type": "code",
   "execution_count": null,
   "id": "c23787c6",
   "metadata": {
    "scrolled": true
   },
   "outputs": [],
   "source": [
    "df=purchaseId.merge(inventory, on = 'id', how = 'left')"
   ]
  },
  {
   "cell_type": "code",
   "execution_count": null,
   "id": "d5670696",
   "metadata": {
    "scrolled": true
   },
   "outputs": [],
   "source": [
    "df"
   ]
  },
  {
   "cell_type": "code",
   "execution_count": null,
   "id": "65f9b074",
   "metadata": {},
   "outputs": [],
   "source": []
  },
  {
   "cell_type": "code",
   "execution_count": 9,
   "id": "dc0d76fd",
   "metadata": {},
   "outputs": [],
   "source": [
    "df=joblib.load(\"product_list.pkl\")"
   ]
  },
  {
   "cell_type": "code",
   "execution_count": null,
   "id": "b62624b5",
   "metadata": {
    "scrolled": true
   },
   "outputs": [],
   "source": [
    "df"
   ]
  },
  {
   "cell_type": "code",
   "execution_count": null,
   "id": "07790a89",
   "metadata": {},
   "outputs": [],
   "source": [
    "df.customer_code.unique()"
   ]
  },
  {
   "cell_type": "code",
   "execution_count": null,
   "id": "ea041acb",
   "metadata": {},
   "outputs": [],
   "source": []
  },
  {
   "cell_type": "code",
   "execution_count": null,
   "id": "189882bc",
   "metadata": {},
   "outputs": [],
   "source": []
  },
  {
   "cell_type": "code",
   "execution_count": null,
   "id": "bfc03ad9",
   "metadata": {},
   "outputs": [],
   "source": [
    "#function to take data from specific customer"
   ]
  },
  {
   "cell_type": "code",
   "execution_count": 10,
   "id": "cf2f9265",
   "metadata": {},
   "outputs": [],
   "source": [
    "def customer(code):\n",
    "    d=df[df[\"customer_code\"]==code]\n",
    "    d=d.sort_values(by=['created_year',\"created_month\",\"created_day\"],ascending=False)\n",
    "    d.drop_duplicates(subset=[\"id\"],inplace=True)\n",
    "    l=list(d[\"id\"])\n",
    "    limit=l[0:10]\n",
    "    return limit"
   ]
  },
  {
   "cell_type": "code",
   "execution_count": null,
   "id": "7db5f83b",
   "metadata": {},
   "outputs": [],
   "source": [
    "d=df[df[\"customer_code\"]==\"RGC1664003938\"]\n",
    "d=d.sort_values(by=['created_year',\"created_month\",\"created_day\"],ascending=False)\n",
    "d.drop_duplicates(subset=[\"id\"],inplace=True)\n",
    "l=list(d[\"id\"])\n",
    "limit=l[0:10]"
   ]
  },
  {
   "cell_type": "code",
   "execution_count": null,
   "id": "51531b1e",
   "metadata": {
    "scrolled": true
   },
   "outputs": [],
   "source": [
    "d"
   ]
  },
  {
   "cell_type": "code",
   "execution_count": null,
   "id": "c0ab921c",
   "metadata": {},
   "outputs": [],
   "source": [
    "d.id.nunique()"
   ]
  },
  {
   "cell_type": "code",
   "execution_count": null,
   "id": "085c589c",
   "metadata": {},
   "outputs": [],
   "source": []
  },
  {
   "cell_type": "code",
   "execution_count": null,
   "id": "0a7b59f5",
   "metadata": {},
   "outputs": [],
   "source": [
    "#give customer code to get productid of recent purchases"
   ]
  },
  {
   "cell_type": "code",
   "execution_count": 11,
   "id": "322cb45e",
   "metadata": {
    "scrolled": true
   },
   "outputs": [
    {
     "data": {
      "text/plain": [
       "[31927, 31966, 4492, 16752, 23867, 43452, 3142]"
      ]
     },
     "execution_count": 11,
     "metadata": {},
     "output_type": "execute_result"
    }
   ],
   "source": [
    "customer(\"RGC1658833657\")"
   ]
  },
  {
   "cell_type": "code",
   "execution_count": null,
   "id": "3f3af035",
   "metadata": {},
   "outputs": [],
   "source": []
  },
  {
   "cell_type": "code",
   "execution_count": null,
   "id": "44cef70f",
   "metadata": {},
   "outputs": [],
   "source": [
    "#creating pickle file for dataset"
   ]
  },
  {
   "cell_type": "code",
   "execution_count": null,
   "id": "23df9de7",
   "metadata": {},
   "outputs": [],
   "source": [
    "import joblib\n",
    "joblib.dump(df,\"product_list.pkl\")"
   ]
  },
  {
   "cell_type": "code",
   "execution_count": null,
   "id": "488029d6",
   "metadata": {},
   "outputs": [],
   "source": []
  },
  {
   "cell_type": "code",
   "execution_count": null,
   "id": "8dd422d6",
   "metadata": {},
   "outputs": [],
   "source": [
    "#just to see customers"
   ]
  },
  {
   "cell_type": "code",
   "execution_count": null,
   "id": "545d6312",
   "metadata": {},
   "outputs": [],
   "source": [
    "df[\"customer_code\"].unique()"
   ]
  },
  {
   "cell_type": "code",
   "execution_count": null,
   "id": "98743d7d",
   "metadata": {},
   "outputs": [],
   "source": []
  },
  {
   "cell_type": "code",
   "execution_count": null,
   "id": "ba275672",
   "metadata": {},
   "outputs": [],
   "source": []
  }
 ],
 "metadata": {
  "kernelspec": {
   "display_name": "Python 3 (ipykernel)",
   "language": "python",
   "name": "python3"
  },
  "language_info": {
   "codemirror_mode": {
    "name": "ipython",
    "version": 3
   },
   "file_extension": ".py",
   "mimetype": "text/x-python",
   "name": "python",
   "nbconvert_exporter": "python",
   "pygments_lexer": "ipython3",
   "version": "3.9.13"
  }
 },
 "nbformat": 4,
 "nbformat_minor": 5
}
